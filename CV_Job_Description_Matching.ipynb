{
  "nbformat": 4,
  "nbformat_minor": 0,
  "metadata": {
    "colab": {
      "provenance": []
    },
    "kernelspec": {
      "name": "python3",
      "display_name": "Python 3"
    },
    "language_info": {
      "name": "python"
    }
  },
  "cells": [
    {
      "cell_type": "markdown",
      "source": [
        "###Downloading CV data from kaggle:"
      ],
      "metadata": {
        "id": "YTxGRKEMLkOX"
      }
    },
    {
      "cell_type": "code",
      "source": [
        "from google.colab import files\n",
        "!pip install kaggle\n",
        "api_token = files.upload()"
      ],
      "metadata": {
        "id": "-yIcneAm5gve"
      },
      "execution_count": null,
      "outputs": []
    },
    {
      "cell_type": "code",
      "source": [
        "!mkdir ~/.kaggle\n",
        "!cp kaggle.json ~/.kaggle/"
      ],
      "metadata": {
        "id": "2VL_Vl1s5pup"
      },
      "execution_count": 2,
      "outputs": []
    },
    {
      "cell_type": "code",
      "source": [
        "!kaggle datasets download -d snehaanbhawal/resume-dataset"
      ],
      "metadata": {
        "id": "7KILLp7k5s9P"
      },
      "execution_count": null,
      "outputs": []
    },
    {
      "cell_type": "code",
      "source": [
        "import zipfile\n",
        "with zipfile.ZipFile(\"/content/resume-dataset.zip\",\"r\") as zip_ref:\n",
        "    zip_ref.extractall(\"resume_dataset\")"
      ],
      "metadata": {
        "id": "KHAtcrrH54ae"
      },
      "execution_count": 4,
      "outputs": []
    },
    {
      "cell_type": "markdown",
      "source": [
        "###Loading Job Description dataset from huggingface:"
      ],
      "metadata": {
        "id": "8f145ddWL_LM"
      }
    },
    {
      "cell_type": "code",
      "source": [
        "!pip install datasets"
      ],
      "metadata": {
        "id": "MCCpVXRT1Lp0"
      },
      "execution_count": null,
      "outputs": []
    },
    {
      "cell_type": "code",
      "source": [
        "from datasets import load_dataset\n",
        "dataset = load_dataset('csv', data_files='job_desc.csv')"
      ],
      "metadata": {
        "id": "do_EM-mzoXBK"
      },
      "execution_count": null,
      "outputs": []
    },
    {
      "cell_type": "markdown",
      "source": [
        "###Reading pdf file:"
      ],
      "metadata": {
        "id": "2IrisX1lLya9"
      }
    },
    {
      "cell_type": "code",
      "source": [
        "!pip install PyPDF2"
      ],
      "metadata": {
        "id": "22_pbbsBIUyN"
      },
      "execution_count": null,
      "outputs": []
    },
    {
      "cell_type": "code",
      "source": [
        "from PyPDF2 import PdfReader\n",
        "\n",
        "def pdf_to_txt(pdf_file_path):\n",
        "  '''reads multiple pdf pages and returns merged text output'''\n",
        "  reader = PdfReader(pdf_file_path)\n",
        "  number_of_pages = len(reader.pages)\n",
        "  text=''\n",
        "  for p in range(number_of_pages):\n",
        "    page = reader.pages[p]\n",
        "    t = page.extract_text()\n",
        "    text = text + ' ' + t\n",
        "  return text"
      ],
      "metadata": {
        "id": "ZWrByLQFqrU1"
      },
      "execution_count": 12,
      "outputs": []
    },
    {
      "cell_type": "markdown",
      "source": [
        "**Below I have used two methods to get CV text before embedding:**\n",
        "\n",
        "**Method 1:**\n",
        "- This is a relatively simple method to get top cv.\n",
        "- Instead of extracting entities like skills, experience etc. from cv, we are just doing basic cleaning of cv text.\n",
        "- After cleaning we can be sure that most of the time the text will contain skills/experience/degree data along with certain other descriptions the candidate choose to write in cv, like achievements in previous jobs/ project descriptions etc. which may get ignored by any parser.\n",
        "- So reliance upon any entity extraction method is removed here(as in method 2)\n",
        "- Here computation cost for creating cv embeddings will increase as we are keeping most of the text from cv.\n",
        "- We can use pretrained spacy NER model to find entities with 'Person' tag and remove them but after checking it was found that the model was giving 'person' tag to many useful words so the idea was dropped. Refer Miscellaneous section for code and result.\n",
        "\n",
        "**Method 2:**\n",
        "- Here we extract skills, experience, degree from cv.\n",
        "- Extraction can be performed in following ways:\n",
        "  - Using rules based system like string matching/regex. This method will not work for every cv format. It will not be able to find skills mentioned under various other descriptions like projects, experience etc.\n",
        "  - Using tools like Spacy NER model with rule based entity recognition. We will need a file having list of various skills for entity recognition.\n",
        "  - Training custom Spacy NER model which will need annotated data.\n",
        "- Here we will be using a open source library 'pyresparser' which is trained on about 200 resumes giving custom NER output like degree,experience,skills etc. (https://pypi.org/project/pyresparser/)\n"
      ],
      "metadata": {
        "id": "PduC6q74MLKE"
      }
    },
    {
      "cell_type": "markdown",
      "source": [
        "###Embeddings:"
      ],
      "metadata": {
        "id": "w6Dc9qI1TbvW"
      }
    },
    {
      "cell_type": "markdown",
      "source": [
        "- Here we are using 'sentence transformer' to encode the text.\n",
        "- We will be using pre-trained 'all-MiniLM-L6-v2' model which gives 384 dim embeddings.\n",
        "- Sentence transformer uses BERT with siamese and triplet network to get better semantically meaningful sentence embeddings that can be compared using cosine-similarity. (https://arxiv.org/abs/1908.10084)"
      ],
      "metadata": {
        "id": "Aapv1lsCTeT8"
      }
    },
    {
      "cell_type": "code",
      "source": [
        "!pip install -U sentence-transformers"
      ],
      "metadata": {
        "id": "ya3_52YpH5vL"
      },
      "execution_count": null,
      "outputs": []
    },
    {
      "cell_type": "code",
      "source": [
        "from sentence_transformers import SentenceTransformer\n",
        "model = SentenceTransformer('all-MiniLM-L6-v2')"
      ],
      "metadata": {
        "id": "whiwVLoDH5vL"
      },
      "execution_count": 16,
      "outputs": []
    },
    {
      "cell_type": "markdown",
      "source": [
        "Note:\n",
        "- Here we will be using only information technology/ software related cv and job description.\n",
        "- For every software related job description we will be finding top 5 IT domain CV."
      ],
      "metadata": {
        "id": "lMAKRHBnZwaC"
      }
    },
    {
      "cell_type": "markdown",
      "source": [
        "###Method 1:"
      ],
      "metadata": {
        "id": "oUh7JV5kepQi"
      }
    },
    {
      "cell_type": "markdown",
      "source": [
        "###Cleaning raw CV text:"
      ],
      "metadata": {
        "id": "7sicOG92Sy42"
      }
    },
    {
      "cell_type": "code",
      "source": [
        "import re\n",
        "\n",
        "def text_cleaning(text):\n",
        "  t = text.replace('\\n',' ')\n",
        "  t=re.sub('\\S+(?<=@)\\S+', ' ', t) #remove email\n",
        "  t=re.sub('[0-9]+', ' ', t) #remove numbers\n",
        "  t = re.sub('\\S+:', ' ', t) #remove words with ':' eg: Skills:, Blog:, Introduction: etc.\n",
        "  t = re.sub('\\\\b[^A-Za-z_ ]+\\\\b', ' ', t) #not a word\n",
        "  t = re.sub('\\W+',' ',t) #non-word character\n",
        "  t = re.sub('^\\s+', '',t) #removing spaces at start of sentence\n",
        "  t = re.sub('\\s+', ' ', t) #removing extra spaces\n",
        "  t = re.sub('\\s+$', '', t) #removing spaces at end of sentence\n",
        "  t = t.lower()\n",
        "  return t"
      ],
      "metadata": {
        "id": "kILHrQ96sG3L"
      },
      "execution_count": null,
      "outputs": []
    },
    {
      "cell_type": "code",
      "source": [
        "# getting index of software related job description\n",
        "\n",
        "indx_software=[]\n",
        "for i,pos in enumerate(dataset['train']['position_title']):\n",
        "  if 'Software' in pos:\n",
        "    indx_software.append(i)"
      ],
      "metadata": {
        "id": "leBqJnv21Tbq"
      },
      "execution_count": 28,
      "outputs": []
    },
    {
      "cell_type": "code",
      "source": [
        "import math\n",
        "\n",
        "def get_embeddings(text,model):\n",
        "  '''function that returns embeddings of text based on model used.\n",
        "     if text token length is more than acceptable token length of 512, then text is embedded in chunks and mean of all embeddings is taken'''\n",
        "  text_word_list = text.split()\n",
        "  embeddings_list=[]\n",
        "  for i in range(math.ceil(len(text_word_list)/500)): #making chunks of 500 words.\n",
        "    text_part = ' '.join(text_word_list[i*500:i*500+500])\n",
        "    embeddings_list.append(model.encode(text_part))\n",
        "  return np.mean(np.stack(embeddings_list),axis=0)"
      ],
      "metadata": {
        "id": "2b_yfekMCaP7"
      },
      "execution_count": 14,
      "outputs": []
    },
    {
      "cell_type": "markdown",
      "source": [
        "Job Description Embeddings"
      ],
      "metadata": {
        "id": "GMc5eu0_bJSQ"
      }
    },
    {
      "cell_type": "code",
      "source": [
        "import numpy as np\n",
        "\n",
        "embeddings_job_software=[]\n",
        "for job in np.array(dataset['train']['job_description'])[indx_software]:\n",
        "  text = text_cleaning(job)\n",
        "  embeddings_job_software.append( get_embeddings(text,model) )"
      ],
      "metadata": {
        "id": "1IpZ5plCItK_"
      },
      "execution_count": 29,
      "outputs": []
    },
    {
      "cell_type": "markdown",
      "source": [
        "CV Embeddings"
      ],
      "metadata": {
        "id": "Jm_VFf1ZbOvw"
      }
    },
    {
      "cell_type": "code",
      "source": [
        "import os\n",
        "\n",
        "embeddings_cv_software=[]\n",
        "cv_dir = '/content/resume_dataset/data/data/INFORMATION-TECHNOLOGY'\n",
        "for cv in os.listdir(cv_dir):\n",
        "  text = pdf_to_txt(cv_dir+'/'+cv)\n",
        "  embeddings_cv_software.append( get_embeddings(text,model) )\n"
      ],
      "metadata": {
        "id": "bAMeZ-1O7fZ7"
      },
      "execution_count": 41,
      "outputs": []
    },
    {
      "cell_type": "markdown",
      "source": [
        "Top 5 CV for each software related job description:"
      ],
      "metadata": {
        "id": "BP2ootgZbSV4"
      }
    },
    {
      "cell_type": "markdown",
      "source": [
        "- job description no. is the index no. as in hugggingface dataset.\n",
        "- cv id is id inside information technology folder from kaggle dataset."
      ],
      "metadata": {
        "id": "MJE2DNR5bb4g"
      }
    },
    {
      "cell_type": "code",
      "source": [
        "from sklearn.metrics.pairwise import cosine_similarity\n",
        "\n",
        "for job in enumerate(embeddings_job_software):\n",
        "  sim_list=[]\n",
        "  for cv in embeddings_cv_software:\n",
        "    sim = cosine_similarity(job[1].reshape(1,-1),cv.reshape(1,-1))\n",
        "    sim_list.append(sim[0][0])\n",
        "  top_5_cv = np.argsort(sim_list)[::-1][:5]\n",
        "  print('job description no.',indx_software[job[0]],',top 5 CV id: ',np.array(os.listdir(cv_dir))[top_5_cv])\n"
      ],
      "metadata": {
        "colab": {
          "base_uri": "https://localhost:8080/"
        },
        "id": "sTatdTn686gC",
        "outputId": "21725cc3-fbbc-4d4e-808d-f7cd3a7789b8"
      },
      "execution_count": 50,
      "outputs": [
        {
          "output_type": "stream",
          "name": "stdout",
          "text": [
            "job description no. 29 ,top 5 CV id:  ['52618188.pdf' '52246737.pdf' '18067556.pdf' '13405733.pdf'\n",
            " '26768723.pdf']\n",
            "job description no. 30 ,top 5 CV id:  ['28897981.pdf' '15297298.pdf' '10641230.pdf' '27770859.pdf'\n",
            " '36434348.pdf']\n",
            "job description no. 31 ,top 5 CV id:  ['24020470.pdf' '25207620.pdf' '11580408.pdf' '28126340.pdf'\n",
            " '51363762.pdf']\n",
            "job description no. 32 ,top 5 CV id:  ['17111768.pdf' '36434348.pdf' '10641230.pdf' '20674668.pdf'\n",
            " '21780877.pdf']\n",
            "job description no. 33 ,top 5 CV id:  ['28126340.pdf' '11957080.pdf' '27372171.pdf' '17111768.pdf'\n",
            " '15297298.pdf']\n",
            "job description no. 34 ,top 5 CV id:  ['52246737.pdf' '20674668.pdf' '26480367.pdf' '20237244.pdf'\n",
            " '51363762.pdf']\n",
            "job description no. 35 ,top 5 CV id:  ['37242217.pdf' '15802627.pdf' '20674668.pdf' '20001721.pdf'\n",
            " '22776912.pdf']\n",
            "job description no. 36 ,top 5 CV id:  ['12334140.pdf' '10641230.pdf' '11957080.pdf' '36434348.pdf'\n",
            " '20001721.pdf']\n",
            "job description no. 66 ,top 5 CV id:  ['20674668.pdf' '30223363.pdf' '46260230.pdf' '22450718.pdf'\n",
            " '70089206.pdf']\n",
            "job description no. 91 ,top 5 CV id:  ['28897981.pdf' '36434348.pdf' '28126340.pdf' '39413067.pdf'\n",
            " '20674668.pdf']\n",
            "job description no. 92 ,top 5 CV id:  ['52246737.pdf' '17111768.pdf' '51363762.pdf' '90867631.pdf'\n",
            " '17641670.pdf']\n",
            "job description no. 93 ,top 5 CV id:  ['22776912.pdf' '33381211.pdf' '24038620.pdf' '15802627.pdf'\n",
            " '30223363.pdf']\n",
            "job description no. 94 ,top 5 CV id:  ['24038620.pdf' '15297298.pdf' '52246737.pdf' '39413067.pdf'\n",
            " '25207620.pdf']\n",
            "job description no. 95 ,top 5 CV id:  ['83816738.pdf' '27770859.pdf' '28697203.pdf' '13405733.pdf'\n",
            " '19850482.pdf']\n",
            "job description no. 96 ,top 5 CV id:  ['52246737.pdf' '13405733.pdf' '17681064.pdf' '46260230.pdf'\n",
            " '28126340.pdf']\n",
            "job description no. 97 ,top 5 CV id:  ['13405733.pdf' '17681064.pdf' '32959732.pdf' '17111768.pdf'\n",
            " '28697203.pdf']\n",
            "job description no. 98 ,top 5 CV id:  ['17987433.pdf' '15297298.pdf' '31111279.pdf' '28897981.pdf'\n",
            " '81761658.pdf']\n",
            "job description no. 99 ,top 5 CV id:  ['22776912.pdf' '83816738.pdf' '33381211.pdf' '28897981.pdf'\n",
            " '52618188.pdf']\n",
            "job description no. 144 ,top 5 CV id:  ['46260230.pdf' '19796840.pdf' '20674668.pdf' '17641670.pdf'\n",
            " '29075857.pdf']\n",
            "job description no. 179 ,top 5 CV id:  ['51363762.pdf' '52246737.pdf' '36434348.pdf' '37242217.pdf'\n",
            " '24020470.pdf']\n",
            "job description no. 368 ,top 5 CV id:  ['25207620.pdf' '52246737.pdf' '19796840.pdf' '24020470.pdf'\n",
            " '33381211.pdf']\n",
            "job description no. 369 ,top 5 CV id:  ['37242217.pdf' '22776912.pdf' '83816738.pdf' '52246737.pdf'\n",
            " '18176523.pdf']\n",
            "job description no. 370 ,top 5 CV id:  ['28697203.pdf' '52246737.pdf' '27372171.pdf' '26480367.pdf'\n",
            " '22450718.pdf']\n",
            "job description no. 371 ,top 5 CV id:  ['26768723.pdf' '28126340.pdf' '15297298.pdf' '17111768.pdf'\n",
            " '15802627.pdf']\n",
            "job description no. 372 ,top 5 CV id:  ['83816738.pdf' '20674668.pdf' '28126340.pdf' '36434348.pdf'\n",
            " '23864648.pdf']\n",
            "job description no. 373 ,top 5 CV id:  ['18176523.pdf' '27295996.pdf' '52246737.pdf' '15802627.pdf'\n",
            " '25207620.pdf']\n",
            "job description no. 374 ,top 5 CV id:  ['28126340.pdf' '38753827.pdf' '37242217.pdf' '15802627.pdf'\n",
            " '30223363.pdf']\n",
            "job description no. 375 ,top 5 CV id:  ['83816738.pdf' '20674668.pdf' '28126340.pdf' '17111768.pdf'\n",
            " '20001721.pdf']\n",
            "job description no. 414 ,top 5 CV id:  ['24913648.pdf' '25959103.pdf' '20824105.pdf' '20879311.pdf'\n",
            " '26480367.pdf']\n",
            "job description no. 523 ,top 5 CV id:  ['51363762.pdf' '10840430.pdf' '36856210.pdf' '20237244.pdf'\n",
            " '52246737.pdf']\n",
            "job description no. 528 ,top 5 CV id:  ['70089206.pdf' '51363762.pdf' '36434348.pdf' '17111768.pdf'\n",
            " '37242217.pdf']\n",
            "job description no. 609 ,top 5 CV id:  ['52618188.pdf' '27372171.pdf' '13405733.pdf' '15297298.pdf'\n",
            " '79541391.pdf']\n",
            "job description no. 672 ,top 5 CV id:  ['26480367.pdf' '20001721.pdf' '52246737.pdf' '11957080.pdf'\n",
            " '22450718.pdf']\n",
            "job description no. 675 ,top 5 CV id:  ['29075857.pdf' '10641230.pdf' '89413122.pdf' '91697974.pdf'\n",
            " '15651486.pdf']\n",
            "job description no. 676 ,top 5 CV id:  ['51363762.pdf' '10641230.pdf' '17641670.pdf' '36434348.pdf'\n",
            " '11584809.pdf']\n"
          ]
        }
      ]
    },
    {
      "cell_type": "markdown",
      "source": [
        "Getting job description and top cv text:"
      ],
      "metadata": {
        "id": "btQd5meRhOZe"
      }
    },
    {
      "cell_type": "code",
      "source": [
        "text_cleaning(dataset['train']['job_description'][29])"
      ],
      "metadata": {
        "colab": {
          "base_uri": "https://localhost:8080/",
          "height": 383
        },
        "id": "nht6YT_Ddoss",
        "outputId": "10a7517b-3111-4abc-df1f-ad8277027146"
      },
      "execution_count": 38,
      "outputs": [
        {
          "output_type": "execute_result",
          "data": {
            "text/plain": [
              "'the role remote as a software engineer youll build features into the dispatch platform that will lead us toward our goal of redefining sameday delivery youll dig deep into many parts of the system and will work across the full stack to create new ideas and improve existing functionality we believe that product development is more fun when deploying early and often splitting up work into bitesized chunks and getting feedback from real users as quickly as possible we also believe that a single engineer should be empowered to develop a feature from start to finish and that the technology stack should be simple enough to make that realistic this is a fulltime exempt computer employee role that reports to the manager software engineering what youll do executes all job duties in alignment with dispatchs core values mission and purpose acts ethically with integrity and complies legal standards to deliver an environment that promotes respect innovation and creativity encourages and fosters an inclusive environment an environment where the strengths and expertise of our workforce are welcomed amplified and exhibited in the work at dispatch build high quality features that meet business objectives with a focus on usability collaborate closely with your teammates through code reviews to keep aligned and adhere to best coding practices deploy your projects to production frequently and monitor the results to ensure quality and positive outcome actively solicit feedback from teammates and customers to improve usability of the features being built work with the rest of the product team to come up with ways to make the product better overall perform other duties as assigned to be less than of your responsibilities what were looking for strong interpersonal skills that will keep you productive on a fast moving team a track record of learning new technologies on the fly and finding the right tool for the job must be a positive selfdriven teammember with a desire to learn what youll need bachelors degree or equivalent experience required experience building and supporting web applications in a fullstack capacity preferably years or more proficiency with ruby on rails java net python php or groovy required and javascriptreact preferred experience with react native ios android elasticsearch google maps apis are a bonus even if you dont match of the requirements we still encourage you to apply so that we may possibly talk and see how you could still contribute to dispatch in meaningful ways about us dispatch is a technologybased company that redefines the way sameday deliveries are made in the space with our network of independent contractor drivers dispatch puts suppliers businesses and technicians in control of local deliveries with realtime tracking and transparency we strive to deliver the best value and service to our customers every day dispatch started in the twin cities but is now in dozens of markets across the country with all of this growth we maintain a strong focus on our company culture dispatch operates on five core values people first belief speed to value driven to deliver and transparency if you connect with these values wed love to learn more about you'"
            ],
            "application/vnd.google.colaboratory.intrinsic+json": {
              "type": "string"
            }
          },
          "metadata": {},
          "execution_count": 38
        }
      ]
    },
    {
      "cell_type": "code",
      "source": [
        "text_cleaning(pdf_to_txt('/content/resume_dataset/data/data/INFORMATION-TECHNOLOGY/52618188.pdf'))"
      ],
      "metadata": {
        "colab": {
          "base_uri": "https://localhost:8080/",
          "height": 851
        },
        "id": "bC8Ht-yAdWbt",
        "outputId": "dea227a6-4d24-4f67-e630-b96e294ce028"
      },
      "execution_count": 36,
      "outputs": [
        {
          "output_type": "execute_result",
          "data": {
            "text/plain": [
              "'information technology help desk specialist highlights microsoft windows operating systems me xp and windows along with expert knowledge in several other applications such as microsoft active directory microsoft works microsoft office and microsoft outlook sap crm erp oracle jd edwards remedy great plains peoplesoft sharepoint avaya blue pumpkin verint novell vdi platforms and cognos business process improvement cost benefit analysis forecasting and planning advanced excel modeling business systems analysis sap business requirements matrixes project management superb communication skills advanced problem solving abilities critical thinking decisive experience information technology help desk specialist august to current company name city state diagnose and resolve technical hardware and software issues for incoming phone calls and emails while ensuring detailed documentation on all activity and communication with customers regarding their issue display the ability to understand and communicate complex and technical information clearly and concisely demonstrate proficiency in product knowledge and call handling skills maintain accurate customer records process changes display the ability to work in a fast paced environment providing efficient productivity while simultaneously providing superior quality service research questions using available information resources and advise user on appropriate action log all help desk interactions identify and escalate situations requiring urgent attention track and route problems and requests and document resolutions maintain ticketing system and route all tickets to appropriate parties quality assurance it analyst september to january company name city state display working ability to organize and follow complex and detailed technical procedures responsible for establishing and implementing quality assurance and compliance processes for the it organization by defining documenting measuring analyzing and improving processes serve as process owner for document record control corrective preventive action internal auditing and kpi tracking display consistent project management and team leadership skills display advanced microsoft excel utilization skills to create extensive graphs and charts pivot tables v look ups and extensive complex formula familiarity train and mentor others in the use of quality tools and statistical methods for problem solving and decision making extract raw data from varied sources and transform into useful summary charts graphs and reports and use data to identify trends to improve performance and produce weekly power point presentation for upper management team reflecting group productivity on a daily weekly monthly and quarterly breakdown establishes metrics to measure deployment of new project or process solutions document measurement approaches and key findings and variability in results work with production and development teams to implement new methodologies into reporting solutions consults with information technology and business leaders on the development and implementation of strategic business solutions through research audit and analysis of data and or business process display ability to successfully work and interact with all levels of management business operations analyst metrics analyst department administrative support supply chain assistant september to january company name city state responsible for providing accurate and detailed reporting to executive management daily monthly and quarterly metrics and reporting as well as any other requests from the team or other organizations importing and exporting data from sap and sharepoint and manipulating and compiling data to create weekly power point presentation for executive management team measurements include shipments order cycle time aged orders inventory forecasting etc display advanced microsoft excel utilization skills to create extensive graphs and charts pivot tables v look ups and extensive complex formula familiarity implement changes and create effective metric management tools and maintain databases such as sap and share point and provide training to team on utilization of new tools support the department by providing standard daily monthly and quarterly metrics and reporting as well as any other requests from the team or other organizations work with other business organizations and vendors to resolve any data or system issues provide visibility to department metrics by maintaining current information on hp s internal site produce weekly power point presentation for upper management team reflecting group productivity on a daily weekly monthly and quarterly breakdown display the ability to understand and communicate complex and technical information clearly and concisely assist buyers in procurement supply chain duties updating and ensuring all inventory accurately built loaded in stock and up to date in database as required for forecasting and projected orders assist with creating confirming and maintaining purchase orders and invoices responsible for assisting to ensure all daily inventory efforts are met including adjustments approvals reservations transportation and distribution monitor and resolve any shipping and logistic issues in transporting inventory act as administrative support to department manager effectively organize and coordinate department meetings daily maintain and order department supplies calendar maintenance for department management preparing editing presentations for management and or compiling data for reports making travel arrangements as needed for management and prospective clients vendors customer service professional march to august company name city state answers incoming customer telephone calls in a courteous and professional manner responds to and investigates customer inquiries concerns orders and issues received via phone fax email shell source and edi in a timely and courteous manner responsible for entering orders and resolving customer issues for many different products using the sap crm and remedy tool researches and resolves customer complaints and or ordering issues and determines effective method of distribution to satisfy customer needs assign escalate and notify appropriate agents managers of customer issues to ensure fast and effective support delivery and resolutions using remedy maintain relationship with sales team customers and manufacturing and suppliers education bba business administration sam houston state university city state usa skills active directory administrative support attention to detail auditing avaya business process business solutions charts cognos hardware crm clients customer service databases database decision making delivery documentation editing edi email erp executive management fast fax forecasting graphs great plains help desk hp information technology inventory jd edwards team leadership meetings mentor microsoft excel microsoft office microsoft outlook power point windows microsoft windows microsoft works novell operating systems oracle peoplesoft presentations problem solving processes procurement project management quality quality assurance reporting research sales sap shell shipping strategic supply chain tables telephone phone transportation travel arrangements'"
            ],
            "application/vnd.google.colaboratory.intrinsic+json": {
              "type": "string"
            }
          },
          "metadata": {},
          "execution_count": 36
        }
      ]
    },
    {
      "cell_type": "markdown",
      "source": [
        "###Method 2:"
      ],
      "metadata": {
        "id": "xmz320yAezwm"
      }
    },
    {
      "cell_type": "code",
      "source": [
        "!pip install pyresparser"
      ],
      "metadata": {
        "id": "BJoA1mGWtgfv"
      },
      "execution_count": null,
      "outputs": []
    },
    {
      "cell_type": "code",
      "source": [
        "!python -m nltk.downloader words"
      ],
      "metadata": {
        "id": "2HVRaJiZumP3"
      },
      "execution_count": null,
      "outputs": []
    },
    {
      "cell_type": "code",
      "source": [
        "!pip install spacy==2.3.5\n",
        "!pip install https://github.com/explosion/spacy-models/releases/download/en_core_web_sm-2.3.1/en_core_web_sm-2.3.1.tar.gz"
      ],
      "metadata": {
        "id": "VJ4_QSRTvoET"
      },
      "execution_count": null,
      "outputs": []
    },
    {
      "cell_type": "markdown",
      "source": [
        "- Using pyreparser library to extract skills,experience,degree.\n",
        "- The library uses custom trained Spacy NER model.\n",
        "- For improved accuracy more annotated data will be needed."
      ],
      "metadata": {
        "id": "em1HbvikfDmL"
      }
    },
    {
      "cell_type": "markdown",
      "source": [
        "data extraction example:"
      ],
      "metadata": {
        "id": "DjGb9Agbfenp"
      }
    },
    {
      "cell_type": "code",
      "source": [
        "from pyresparser import ResumeParser\n",
        "\n",
        "data = ResumeParser('/content/resume_dataset/data/data/INFORMATION-TECHNOLOGY/10265057.pdf').get_extracted_data()\n",
        "data"
      ],
      "metadata": {
        "id": "dw0sohgO8eDv",
        "colab": {
          "base_uri": "https://localhost:8080/"
        },
        "outputId": "af128457-94e2-45e7-d2b2-9f83597ccd64"
      },
      "execution_count": 6,
      "outputs": [
        {
          "output_type": "stream",
          "name": "stderr",
          "text": [
            "/usr/local/lib/python3.10/dist-packages/spacy/util.py:275: UserWarning: [W031] Model 'en_training' (0.0.0) requires spaCy v2.1 and is incompatible with the current spaCy version (2.3.9). This may lead to unexpected results or runtime errors. To resolve this, download a newer compatible model or retrain your custom model with the current spaCy version. For more details and available updates, run: python -m spacy validate\n",
            "  warnings.warn(warn_msg)\n"
          ]
        },
        {
          "output_type": "execute_result",
          "data": {
            "text/plain": [
              "{'name': 'SYSTEMS ENGINEER',\n",
              " 'email': None,\n",
              " 'mobile_number': None,\n",
              " 'skills': ['Statistics',\n",
              "  'Communication',\n",
              "  'Engineering',\n",
              "  'Excel',\n",
              "  'Audit',\n",
              "  'Radar',\n",
              "  'Design',\n",
              "  'Mining',\n",
              "  'Pivot',\n",
              "  'Reports',\n",
              "  'Architecture',\n",
              "  'Assembly',\n",
              "  'Research',\n",
              "  'Sas',\n",
              "  'Matlab',\n",
              "  'Pivot tables',\n",
              "  'Documentation',\n",
              "  'Hardware',\n",
              "  'Testing',\n",
              "  'C',\n",
              "  'Python',\n",
              "  'Root cause',\n",
              "  'System',\n",
              "  'Database',\n",
              "  'Troubleshooting',\n",
              "  'Data collection',\n",
              "  'Process',\n",
              "  'Big data',\n",
              "  'Specifications',\n",
              "  'C++',\n",
              "  'Requests',\n",
              "  'Acquisition',\n",
              "  'Microsoft office',\n",
              "  'Operations',\n",
              "  'Java',\n",
              "  'Sql',\n",
              "  'Programming',\n",
              "  'Technical',\n",
              "  'Electrical'],\n",
              " 'college_name': None,\n",
              " 'degree': None,\n",
              " 'designation': ['Electrical/Validation Engineer'],\n",
              " 'experience': ['Working RF Systems Engineer',\n",
              "  'May 2014 to Current Company Name',\n",
              "  'Qualification Â· Multidisciplinary background: RF hardware designs, manufacturing operations and data analyst.'],\n",
              " 'company_names': None,\n",
              " 'no_of_pages': 1,\n",
              " 'total_experience': 0.0}"
            ]
          },
          "metadata": {},
          "execution_count": 6
        }
      ]
    },
    {
      "cell_type": "markdown",
      "source": [
        "Extracting skills, degree, experience data from cv and using the joined data as input to embedding generation."
      ],
      "metadata": {
        "id": "SG1RiIOofsW_"
      }
    },
    {
      "cell_type": "code",
      "source": [
        "import os\n",
        "import numpy as np\n",
        "\n",
        "embeddings_cv_soft=[]\n",
        "cv_dir = '/content/resume_dataset/data/data/INFORMATION-TECHNOLOGY'\n",
        "for cv in os.listdir(cv_dir):\n",
        "  data = ResumeParser(cv_dir+'/'+cv).get_extracted_data()\n",
        "  try:\n",
        "    try:\n",
        "      text = ' '.join(data['skills']) + ' '.join(data['degree']) + ' '.join(data['experience'])\n",
        "    except:\n",
        "      text = ' '.join(data['skills']) + ' '.join(data['experience'])\n",
        "  except:\n",
        "    text = ' '.join(data['skills'])\n",
        "\n",
        "  embeddings_cv_soft.append( get_embeddings(text,model) )"
      ],
      "metadata": {
        "id": "Gd1Z0oP9EtFU"
      },
      "execution_count": null,
      "outputs": []
    },
    {
      "cell_type": "markdown",
      "source": [
        "Top 5 CV for each software related job description:"
      ],
      "metadata": {
        "id": "r0cNGokogA50"
      }
    },
    {
      "cell_type": "code",
      "source": [
        "from sklearn.metrics.pairwise import cosine_similarity\n",
        "\n",
        "for job in enumerate(embeddings_job_software):\n",
        "  sim_list=[]\n",
        "  for cv in embeddings_cv_soft:\n",
        "    sim = cosine_similarity(job[1].reshape(1,-1),cv.reshape(1,-1))\n",
        "    sim_list.append(sim[0][0])\n",
        "  top_5_cv = np.argsort(sim_list)[::-1][:5]\n",
        "  print('job description no.',indx_software[job[0]],',top 5 CV id: ',np.array(os.listdir(cv_dir))[top_5_cv])\n"
      ],
      "metadata": {
        "colab": {
          "base_uri": "https://localhost:8080/"
        },
        "id": "mQ4TNXKHHGxj",
        "outputId": "afa4fd71-c405-404f-b190-646d268f87f8"
      },
      "execution_count": 30,
      "outputs": [
        {
          "output_type": "stream",
          "name": "stdout",
          "text": [
            "job description no. 29 ,top 5 CV id:  ['17111768.pdf' '18067556.pdf' '52618188.pdf' '79541391.pdf'\n",
            " '30223363.pdf']\n",
            "job description no. 30 ,top 5 CV id:  ['15297298.pdf' '14789139.pdf' '37242217.pdf' '31111279.pdf'\n",
            " '20001721.pdf']\n",
            "job description no. 31 ,top 5 CV id:  ['24230851.pdf' '17111768.pdf' '91697974.pdf' '21283365.pdf'\n",
            " '90867631.pdf']\n",
            "job description no. 32 ,top 5 CV id:  ['17111768.pdf' '51363762.pdf' '12045067.pdf' '11957080.pdf'\n",
            " '10265057.pdf']\n",
            "job description no. 33 ,top 5 CV id:  ['17111768.pdf' '11957080.pdf' '18067556.pdf' '90867631.pdf'\n",
            " '27372171.pdf']\n",
            "job description no. 34 ,top 5 CV id:  ['12763627.pdf' '12045067.pdf' '51363762.pdf' '30223363.pdf'\n",
            " '10641230.pdf']\n",
            "job description no. 35 ,top 5 CV id:  ['10641230.pdf' '12763627.pdf' '23864648.pdf' '51363762.pdf'\n",
            " '15802627.pdf']\n",
            "job description no. 36 ,top 5 CV id:  ['12334140.pdf' '28126340.pdf' '17111768.pdf' '10641230.pdf'\n",
            " '31111279.pdf']\n",
            "job description no. 66 ,top 5 CV id:  ['27372171.pdf' '11957080.pdf' '79541391.pdf' '28697203.pdf'\n",
            " '25959103.pdf']\n",
            "job description no. 91 ,top 5 CV id:  ['17111768.pdf' '13385306.pdf' '23864648.pdf' '11957080.pdf'\n",
            " '31111279.pdf']\n",
            "job description no. 92 ,top 5 CV id:  ['17111768.pdf' '11957080.pdf' '91121135.pdf' '25207620.pdf'\n",
            " '19796840.pdf']\n",
            "job description no. 93 ,top 5 CV id:  ['15802627.pdf' '52246737.pdf' '25959103.pdf' '23864648.pdf'\n",
            " '18176523.pdf']\n",
            "job description no. 94 ,top 5 CV id:  ['11957080.pdf' '10641230.pdf' '17111768.pdf' '10247517.pdf'\n",
            " '91697974.pdf']\n",
            "job description no. 95 ,top 5 CV id:  ['83816738.pdf' '28697203.pdf' '23864648.pdf' '28126340.pdf'\n",
            " '20824105.pdf']\n",
            "job description no. 96 ,top 5 CV id:  ['51363762.pdf' '22450718.pdf' '13405733.pdf' '25959103.pdf'\n",
            " '28897981.pdf']\n",
            "job description no. 97 ,top 5 CV id:  ['28697203.pdf' '29075857.pdf' '17111768.pdf' '22776912.pdf'\n",
            " '10641230.pdf']\n",
            "job description no. 98 ,top 5 CV id:  ['15297298.pdf' '22450718.pdf' '19796840.pdf' '48037995.pdf'\n",
            " '17641670.pdf']\n",
            "job description no. 99 ,top 5 CV id:  ['28126340.pdf' '23864648.pdf' '24020470.pdf' '10641230.pdf'\n",
            " '37242217.pdf']\n",
            "job description no. 144 ,top 5 CV id:  ['22450718.pdf' '28697203.pdf' '29075857.pdf' '20674668.pdf'\n",
            " '83816738.pdf']\n",
            "job description no. 179 ,top 5 CV id:  ['17111768.pdf' '11957080.pdf' '30223363.pdf' '12045067.pdf'\n",
            " '12763627.pdf']\n",
            "job description no. 368 ,top 5 CV id:  ['24230851.pdf' '91697974.pdf' '19796840.pdf' '17111768.pdf'\n",
            " '27536013.pdf']\n",
            "job description no. 369 ,top 5 CV id:  ['23864648.pdf' '30223363.pdf' '18067556.pdf' '17111768.pdf'\n",
            " '12763627.pdf']\n",
            "job description no. 370 ,top 5 CV id:  ['11957080.pdf' '51363762.pdf' '13405733.pdf' '22450718.pdf'\n",
            " '28697203.pdf']\n",
            "job description no. 371 ,top 5 CV id:  ['17111768.pdf' '23666211.pdf' '18159866.pdf' '18067556.pdf'\n",
            " '91697974.pdf']\n",
            "job description no. 372 ,top 5 CV id:  ['23864648.pdf' '28126340.pdf' '33381211.pdf' '12763627.pdf'\n",
            " '20824105.pdf']\n",
            "job description no. 373 ,top 5 CV id:  ['38753827.pdf' '10641230.pdf' '15802627.pdf' '27058381.pdf'\n",
            " '11957080.pdf']\n",
            "job description no. 374 ,top 5 CV id:  ['23864648.pdf' '17681064.pdf' '33381211.pdf' '15802627.pdf'\n",
            " '18176523.pdf']\n",
            "job description no. 375 ,top 5 CV id:  ['17111768.pdf' '10641230.pdf' '30223363.pdf' '22450718.pdf'\n",
            " '12763627.pdf']\n",
            "job description no. 414 ,top 5 CV id:  ['52246737.pdf' '25959103.pdf' '51363762.pdf' '20824105.pdf'\n",
            " '19796840.pdf']\n",
            "job description no. 523 ,top 5 CV id:  ['51363762.pdf' '11957080.pdf' '10840430.pdf' '18301617.pdf'\n",
            " '25207620.pdf']\n",
            "job description no. 528 ,top 5 CV id:  ['51363762.pdf' '70089206.pdf' '12045067.pdf' '11957080.pdf'\n",
            " '17111768.pdf']\n",
            "job description no. 609 ,top 5 CV id:  ['18067556.pdf' '79541391.pdf' '17111768.pdf' '10247517.pdf'\n",
            " '10265057.pdf']\n",
            "job description no. 672 ,top 5 CV id:  ['11957080.pdf' '25207620.pdf' '17111768.pdf' '12045067.pdf'\n",
            " '51363762.pdf']\n",
            "job description no. 675 ,top 5 CV id:  ['12045067.pdf' '29075857.pdf' '28126340.pdf' '23666211.pdf'\n",
            " '70089206.pdf']\n",
            "job description no. 676 ,top 5 CV id:  ['40018190.pdf' '51363762.pdf' '12045067.pdf' '12635195.pdf'\n",
            " '31243710.pdf']\n"
          ]
        }
      ]
    },
    {
      "cell_type": "code",
      "source": [
        "text_cleaning(dataset['train']['job_description'][29])"
      ],
      "metadata": {
        "colab": {
          "base_uri": "https://localhost:8080/",
          "height": 383
        },
        "id": "Qz3dbsqDhfBt",
        "outputId": "9e3eab59-2647-4fa7-fe98-239cec3c6c5e"
      },
      "execution_count": 39,
      "outputs": [
        {
          "output_type": "execute_result",
          "data": {
            "text/plain": [
              "'the role remote as a software engineer youll build features into the dispatch platform that will lead us toward our goal of redefining sameday delivery youll dig deep into many parts of the system and will work across the full stack to create new ideas and improve existing functionality we believe that product development is more fun when deploying early and often splitting up work into bitesized chunks and getting feedback from real users as quickly as possible we also believe that a single engineer should be empowered to develop a feature from start to finish and that the technology stack should be simple enough to make that realistic this is a fulltime exempt computer employee role that reports to the manager software engineering what youll do executes all job duties in alignment with dispatchs core values mission and purpose acts ethically with integrity and complies legal standards to deliver an environment that promotes respect innovation and creativity encourages and fosters an inclusive environment an environment where the strengths and expertise of our workforce are welcomed amplified and exhibited in the work at dispatch build high quality features that meet business objectives with a focus on usability collaborate closely with your teammates through code reviews to keep aligned and adhere to best coding practices deploy your projects to production frequently and monitor the results to ensure quality and positive outcome actively solicit feedback from teammates and customers to improve usability of the features being built work with the rest of the product team to come up with ways to make the product better overall perform other duties as assigned to be less than of your responsibilities what were looking for strong interpersonal skills that will keep you productive on a fast moving team a track record of learning new technologies on the fly and finding the right tool for the job must be a positive selfdriven teammember with a desire to learn what youll need bachelors degree or equivalent experience required experience building and supporting web applications in a fullstack capacity preferably years or more proficiency with ruby on rails java net python php or groovy required and javascriptreact preferred experience with react native ios android elasticsearch google maps apis are a bonus even if you dont match of the requirements we still encourage you to apply so that we may possibly talk and see how you could still contribute to dispatch in meaningful ways about us dispatch is a technologybased company that redefines the way sameday deliveries are made in the space with our network of independent contractor drivers dispatch puts suppliers businesses and technicians in control of local deliveries with realtime tracking and transparency we strive to deliver the best value and service to our customers every day dispatch started in the twin cities but is now in dozens of markets across the country with all of this growth we maintain a strong focus on our company culture dispatch operates on five core values people first belief speed to value driven to deliver and transparency if you connect with these values wed love to learn more about you'"
            ],
            "application/vnd.google.colaboratory.intrinsic+json": {
              "type": "string"
            }
          },
          "metadata": {},
          "execution_count": 39
        }
      ]
    },
    {
      "cell_type": "code",
      "source": [
        "text_cleaning(pdf_to_txt('/content/resume_dataset/data/data/INFORMATION-TECHNOLOGY/17111768.pdf'))"
      ],
      "metadata": {
        "colab": {
          "base_uri": "https://localhost:8080/",
          "height": 1000
        },
        "id": "kjs0FG2NhizB",
        "outputId": "c938fc23-80c3-4117-e51b-22870fe176dd"
      },
      "execution_count": 40,
      "outputs": [
        {
          "output_type": "execute_result",
          "data": {
            "text/plain": [
              "'information technology project manager system analysis sysanalsys gs professional overview highly qualified department of defense dod program manager pm professional driven to maximize mission partner mp operational efficiency through planning project management and infrastructure technology it expertise excels at building dynamic team relationships and achieves project management process improvements looking to continue federal career as a strategic planner possessing exceptional knowledge understanding support agreements basis of estimates fiscal analysis financial reporting cost projections business proposals and increased overall responsibilities within federal service relevant professional experience january to current company name city state information technology project manager system analysis sysanalsys gs holds active security clearance member of the development and business center for defense logistics agency dla defense finance and accounting service dfas program management office pmo as well as the mission partner engagement office mpeo engagement executive ee team bdm principle job engage with various disa mission partners to provide critical it requirement proficiency and project management support leveraging the disa end to end e e business flow process positioned as the disa program manager for dla s dynamic and complex enterprise business systems ebs test and development td environment which generates million in annual revenue for the agency also serving as the primary disa subject matter expert sme government program lead pl for the dod mandated federal data center consolidation initiative fdcci providing it and project support for defense contract management agency dcma defense manpower data center dmdc office of personnel management opm and dfas disa project manager support includes skill s in the serving as the primary point of contact poc to the mission partner for identifying tracking managing and resolving project issues within operational environments oes and applications strong in depth knowledge and understanding of disa computing service offerings providing functional and technical requirement analysis of all new disa mission partner project initiatives through service request forms srfs create workload utilization documentation of customer environments schedule and facilitate mission partner stakeholder meetings to ensure all project risk has been identified and mitigated develop and manage the overall project work plan for each mission partner project to be certain all workload has beenâ identified and completed on time coordinate with disa information assurance ia personnel to ensure that mission partner it systems have the required dod information assurance certificates and accreditation process diacap package completed making certain the customer is in compliance before implementation of their application s effectively manage project scope to ensure baseline time frames and tasks are delivered unless changes were approved through the baseline change request bcr process proactively manage the development of customer business proposals which are derived from approved bill of materials bom and solution designs sd monitor the timely acceptance of all project basis of estimate and receipt of mission partner funding analyze and coordinate with customer to review upcoming fiscal year fy cost projection ensure that the processing of authorization increases ai have been accepted monitor the judicious execution of all preparation activities for initial operating environment ioe of all mission partner it systems including arrival of hardware infrastructure and software delivery completing the ioe checklist while staying in direct communication with the customer account representative car assigned to the application s to assist in initiating mission partner billing to the appropriate billing account number ban for both implementation and recurring charges coordinate with customer and car to review support agreement for application s ensure that the timely execution of all initial operating capability ioc preparation activities have been completed including application build and testing have been concluded security technical implementation guides stigs have been applied proper ports and protocols have been identified enclave connection authority eca has been approved by the proper designating approval authority daa and go live has been coordinated transitioning projects to operational sustainment of all closeout activities resulting in full operational capability foc disa project manager experienced in various multiple hardware oe chip sets including x itanium sparc and pa risc multiple software operating systems os including windows server r windows server r red hat enterprise linux rhel hewlett packard unix hpux solaris and suse relational database management systems rdbms such as oracle and microsoft sql converged it systems including hewlett packard hp hana appliance and system analyses program sap business warehouse accelerator bwa virtual operating environment voe platforms such as microsoft vmware cloud computing environments such as disa milcloud various enterprise storage platforms including storage area network san network attached storage nas and content addressable storage cas numerous enterprise storage vendor devices such as hitachi virtual storage platform vsp and hp par for san netapp for nas and emc centera for cas application and database consolidation devices including oracle supercluster disaster recovery dr continuity of operations coop planning and initiation while supporting mission partner projects it systems and overall initiatives important knowledge has been obtained in the following defining and collecting tracking metrics to ensure that project deliverables are produced accurate and accounted for facilitating project meetings with disa internal team members mission partners and various stakeholders hosting collaboration sessions dedicated to developing project scope formulate agendas and negotiate schedules managing expectations of mission partner it requests and notional time frames for project completion providing excellent customer service to ensure mission partner obtains operational sustainment for their applications and environments technical analysis of disa capacity services it solutions initiating processes to ensure project objectives are completed negotiate with mission partner to solve complex technical and schedule hurdles comparative analysis of modified business proposal from the original estimate analyze proof of concept solutions application migrations compile and dissemination of all project documentation and noteworthy information to appropriate customer stakeholders presenting clear and concise weekly project status reports to management creating senior leadership briefings for high visibility mission partner initiatives supplementary key a ccumulated an average rating score of outstanding over the previous five years during annual performance work plan appraisal review superior oral and written communication skills able to convey highly technical concepts in a manner that all can understand strong technical acumen allows the development of trusted relationships with mission partner and disa functional teams routinely manages a demanding workload in spite of limited resources conflicting priorities and demanding customers outstanding team member willing to share knowledge experience and recommendations with co workers willingly takes additional workload and responsibilities to support the overall agency mission a consummate professional that represents disa in an articulate and professional manner holds self to highest standards january to january company name city state relevant action officer course acquisition training aspiring leaders briefing techniques customer service excellence empowerment interpersonal communication network operations planning programming budgeting and execution course teambuilding this is transforming disa august to january company name city state computer technician specialist managed provisioned configured built and staged operational computer systems for navy marine corps intranet project march to august company name city state it specialist step student technology education program reported to lead supervisor of disa naval service desk support independently managed and filed data tape entry into appropriate storage drives consistently received excellent evaluations on reviews education and coursework shippensburg university city state usa organizational development and leadership odl master of science public organizations relevant applied organizational leadership and analysis ethics for public service managers leadership charge and innovation leadership theory and practice policy implementation and administration public policy analysis organizational theory and behavior research methods yti career technical instituation city state usa network and internet security administration nisa associate technical relevant areas of applications computer hardware and technology operating systems and provisioning virtual machines security and system hardening network configurations backup imaging and disaster recovery millersville university city state usa sociology bachelor of arts certifications training and noteables comptia security certified active information technology infrastructure library itil foundation certification in it service management foundations of project management for it professionals introduction to it project management the project management professional pmp certification exam camp microsoft project level and training defense acquisition developing a systems engineering plan defense acquisition disa information systems engineering seminar ises defense acquisition engineering management workshop emw defense acquisition fundamentals of system acquisition management was a member of the system integration and delivery sid proposal evaluation team to negotiate new vendor award the sid team support contract is worth million'"
            ],
            "application/vnd.google.colaboratory.intrinsic+json": {
              "type": "string"
            }
          },
          "metadata": {},
          "execution_count": 40
        }
      ]
    },
    {
      "cell_type": "markdown",
      "source": [
        "###Miscellaneous:"
      ],
      "metadata": {
        "id": "MbIZ3s40iaK8"
      }
    },
    {
      "cell_type": "code",
      "source": [
        "import nltk\n",
        "from nltk.tokenize import word_tokenize"
      ],
      "metadata": {
        "id": "Tdsn19gwgcX1"
      },
      "execution_count": 41,
      "outputs": []
    },
    {
      "cell_type": "code",
      "source": [
        "nltk.download('punkt')\n",
        "nltk.download('averaged_perceptron_tagger')\n",
        "nltk.download('maxent_ne_chunker')"
      ],
      "metadata": {
        "id": "dh62VA3Ig1_b"
      },
      "execution_count": null,
      "outputs": []
    },
    {
      "cell_type": "code",
      "source": [
        "text = pdf_to_txt('/content/resume_dataset/data/data/INFORMATION-TECHNOLOGY/17111768.pdf')\n",
        "tokenized_doc  = word_tokenize(text)\n",
        "tagged_sentences = nltk.pos_tag(tokenized_doc)\n",
        "NE= nltk.ne_chunk(tagged_sentences )\n",
        "named_entities = []\n",
        "for tagged_tree in NE:\n",
        "    if hasattr(tagged_tree, 'label'):\n",
        "      entity_name = ' '.join(c[0] for c in tagged_tree.leaves())\n",
        "      entity_type = tagged_tree.label()\n",
        "      named_entities.append((entity_name, entity_type))\n",
        "named_entities"
      ],
      "metadata": {
        "id": "Czd9HY-Jgh3i",
        "colab": {
          "base_uri": "https://localhost:8080/"
        },
        "outputId": "1ad9194d-68db-4eab-974f-303451caaf43"
      },
      "execution_count": 44,
      "outputs": [
        {
          "output_type": "execute_result",
          "data": {
            "text/plain": [
              "[('INFORMATION', 'ORGANIZATION'),\n",
              " ('TECHNOLOGY', 'ORGANIZATION'),\n",
              " ('SYSANALSYS', 'ORGANIZATION'),\n",
              " ('Defense', 'GPE'),\n",
              " ('DoD', 'ORGANIZATION'),\n",
              " ('Mission Partner', 'PERSON'),\n",
              " ('Infrastructure Technology', 'PERSON'),\n",
              " ('Current Company Name City', 'PERSON'),\n",
              " ('State Information Technology Project', 'ORGANIZATION'),\n",
              " ('System Analysis', 'PERSON'),\n",
              " ('SYSANALSYS', 'ORGANIZATION'),\n",
              " ('Development', 'ORGANIZATION'),\n",
              " ('Business Center', 'ORGANIZATION'),\n",
              " ('Defense', 'ORGANIZATION'),\n",
              " ('DLA', 'ORGANIZATION'),\n",
              " ('Defense Finance', 'PERSON'),\n",
              " ('Accounting Service', 'ORGANIZATION'),\n",
              " ('DFAS', 'ORGANIZATION'),\n",
              " ('PMO', 'ORGANIZATION'),\n",
              " ('Mission Partner Engagement', 'ORGANIZATION'),\n",
              " ('MPEO', 'ORGANIZATION'),\n",
              " ('BDM11', 'ORGANIZATION'),\n",
              " ('DISA', 'ORGANIZATION'),\n",
              " ('Project Management', 'PERSON'),\n",
              " ('DISA', 'ORGANIZATION'),\n",
              " ('Business Flow', 'ORGANIZATION'),\n",
              " ('DISA Program Manager', 'ORGANIZATION'),\n",
              " ('DLA', 'ORGANIZATION'),\n",
              " ('Enterprise Business Systems', 'ORGANIZATION'),\n",
              " ('EBS', 'ORGANIZATION'),\n",
              " ('Test', 'PERSON'),\n",
              " ('Development', 'GPE'),\n",
              " ('DISA Subject', 'ORGANIZATION'),\n",
              " ('SME', 'ORGANIZATION'),\n",
              " ('Program Lead', 'PERSON'),\n",
              " ('DoD', 'ORGANIZATION'),\n",
              " ('Federal Data Center Consolidation Initiative', 'ORGANIZATION'),\n",
              " ('FDCCI', 'ORGANIZATION'),\n",
              " ('Defense Contract', 'ORGANIZATION'),\n",
              " ('DCMA', 'ORGANIZATION'),\n",
              " ('Defense Manpower Data Center', 'PERSON'),\n",
              " ('DMDC', 'ORGANIZATION'),\n",
              " ('Personnel Management', 'ORGANIZATION'),\n",
              " ('OPM', 'ORGANIZATION'),\n",
              " ('DFAS', 'ORGANIZATION'),\n",
              " ('Contact', 'GPE'),\n",
              " ('POC', 'ORGANIZATION'),\n",
              " ('Mission Partner', 'ORGANIZATION'),\n",
              " ('OEs', 'ORGANIZATION'),\n",
              " ('Strong', 'GPE'),\n",
              " ('DISA', 'ORGANIZATION'),\n",
              " ('DISA Mission Partner', 'ORGANIZATION'),\n",
              " ('Service Request Forms', 'ORGANIZATION'),\n",
              " ('SRFs', 'ORGANIZATION'),\n",
              " ('Create', 'ORGANIZATION'),\n",
              " ('Schedule', 'PERSON'),\n",
              " ('Mission Partner', 'ORGANIZATION'),\n",
              " ('Develop', 'PERSON'),\n",
              " ('Coordinate', 'ORGANIZATION'),\n",
              " ('DISA Information Assurance', 'ORGANIZATION'),\n",
              " ('DoD Information Assurance Certificates', 'ORGANIZATION'),\n",
              " ('Accreditation Process', 'ORGANIZATION'),\n",
              " ('DIACAP', 'ORGANIZATION'),\n",
              " ('Baseline', 'ORGANIZATION'),\n",
              " ('BCR', 'ORGANIZATION'),\n",
              " ('Bill', 'PERSON'),\n",
              " ('Materials', 'GPE'),\n",
              " ('BOM', 'ORGANIZATION'),\n",
              " ('Solution Designs', 'ORGANIZATION'),\n",
              " ('Mission Partner', 'ORGANIZATION'),\n",
              " ('Analyze', 'PERSON'),\n",
              " ('Authorization Increases', 'ORGANIZATION'),\n",
              " ('Initial Operating Environment', 'PERSON'),\n",
              " ('IOE', 'ORGANIZATION'),\n",
              " ('IOE', 'ORGANIZATION'),\n",
              " ('Customer Account', 'ORGANIZATION'),\n",
              " ('CAR', 'ORGANIZATION'),\n",
              " ('Mission Partner', 'PERSON'),\n",
              " ('BAN', 'ORGANIZATION'),\n",
              " ('Coordinate', 'ORGANIZATION'),\n",
              " ('CAR', 'ORGANIZATION'),\n",
              " ('IOC', 'ORGANIZATION'),\n",
              " ('Security Technical Implementation Guides', 'ORGANIZATION'),\n",
              " ('STIGs', 'ORGANIZATION'),\n",
              " ('Enclave Connection Authority', 'PERSON'),\n",
              " ('ECA', 'ORGANIZATION'),\n",
              " ('DAA', 'ORGANIZATION'),\n",
              " ('Full', 'GPE'),\n",
              " ('FOC', 'ORGANIZATION'),\n",
              " ('DISA Project', 'ORGANIZATION'),\n",
              " ('Itanium', 'GPE'),\n",
              " ('SPARC', 'ORGANIZATION'),\n",
              " ('Systems', 'GPE'),\n",
              " ('Windows Server', 'PERSON'),\n",
              " ('Windows Server', 'PERSON'),\n",
              " ('Red Hat Enterprise Linux', 'PERSON'),\n",
              " ('RHEL', 'ORGANIZATION'),\n",
              " ('Hewlett Packard UNIX', 'PERSON'),\n",
              " ('HPUX', 'ORGANIZATION'),\n",
              " ('Solaris', 'PERSON'),\n",
              " ('SUSE Relational Database Management Systems', 'ORGANIZATION'),\n",
              " ('RDBMS', 'ORGANIZATION'),\n",
              " ('Oracle', 'PERSON'),\n",
              " ('Microsoft', 'ORGANIZATION'),\n",
              " ('Hewlett Packard', 'PERSON'),\n",
              " ('HANA', 'ORGANIZATION'),\n",
              " ('System Analyses Program', 'PERSON'),\n",
              " ('SAP', 'ORGANIZATION'),\n",
              " ('Business Warehouse', 'ORGANIZATION'),\n",
              " ('BWA', 'ORGANIZATION'),\n",
              " ('Virtual Operating Environment', 'PERSON'),\n",
              " ('VOE', 'ORGANIZATION'),\n",
              " ('Microsoft', 'ORGANIZATION'),\n",
              " ('DISA', 'ORGANIZATION'),\n",
              " ('Various', 'PERSON'),\n",
              " ('Storage Area Network', 'PERSON'),\n",
              " ('SAN', 'ORGANIZATION'),\n",
              " ('Network Attached Storage', 'PERSON'),\n",
              " ('NAS', 'ORGANIZATION'),\n",
              " ('Content Addressable Storage', 'ORGANIZATION'),\n",
              " ('CAS', 'ORGANIZATION'),\n",
              " ('Hitachi Virtual Storage Platform', 'PERSON'),\n",
              " ('VSP', 'ORGANIZATION'),\n",
              " ('SAN', 'ORGANIZATION'),\n",
              " ('NetApp', 'ORGANIZATION'),\n",
              " ('NAS', 'ORGANIZATION'),\n",
              " ('EMC Centera', 'ORGANIZATION'),\n",
              " ('CAS Application', 'ORGANIZATION'),\n",
              " ('Oracle Supercluster Disaster Recovery', 'PERSON'),\n",
              " ('Continuity', 'ORGANIZATION'),\n",
              " ('Operations', 'GPE'),\n",
              " ('COOP', 'ORGANIZATION'),\n",
              " ('Mission Partner', 'PERSON'),\n",
              " ('DISA', 'ORGANIZATION'),\n",
              " ('Mission Partners', 'ORGANIZATION'),\n",
              " ('Mission Partner', 'ORGANIZATION'),\n",
              " ('Mission Partner', 'PERSON'),\n",
              " ('DISA Capacity Services', 'ORGANIZATION'),\n",
              " ('Negotiate', 'ORGANIZATION'),\n",
              " ('Mission Partner', 'PERSON'),\n",
              " ('Analyze', 'PERSON'),\n",
              " ('Mission Partner', 'PERSON'),\n",
              " ('Superior', 'ORGANIZATION'),\n",
              " ('Strong', 'GPE'),\n",
              " ('Mission Partner', 'PERSON'),\n",
              " ('DISA', 'ORGANIZATION'),\n",
              " ('Willingly', 'PERSON'),\n",
              " ('DISA', 'ORGANIZATION'),\n",
              " ('State Relevant', 'ORGANIZATION'),\n",
              " ('Techniques Customer Service Excellence', 'PERSON'),\n",
              " ('Network Operations', 'PERSON'),\n",
              " ('DISA', 'ORGANIZATION'),\n",
              " ('State Computer Technician Specialist Managed', 'ORGANIZATION'),\n",
              " ('Student Technology', 'ORGANIZATION'),\n",
              " ('Lead Supervisor', 'ORGANIZATION'),\n",
              " ('DISA Naval', 'ORGANIZATION'),\n",
              " ('Shippensburg University City', 'ORGANIZATION'),\n",
              " ('State', 'PERSON'),\n",
              " ('USA Organizational Development', 'ORGANIZATION'),\n",
              " ('Leadership', 'GPE'),\n",
              " ('ODL', 'ORGANIZATION'),\n",
              " ('Science', 'ORGANIZATION'),\n",
              " ('Public Organizations Relevant', 'PERSON'),\n",
              " ('Applied Organizational Leadership', 'PERSON'),\n",
              " ('Analysis Ethics', 'PERSON'),\n",
              " ('Public Service', 'ORGANIZATION'),\n",
              " ('Charge', 'PERSON'),\n",
              " ('Innovation Leadership', 'ORGANIZATION'),\n",
              " ('Practice Policy Implementation', 'ORGANIZATION'),\n",
              " ('Administration Public Policy Analysis Organizational', 'ORGANIZATION'),\n",
              " ('Behavior Research Methods', 'ORGANIZATION'),\n",
              " ('YTI Career Technical', 'ORGANIZATION'),\n",
              " ('State', 'PERSON'),\n",
              " ('USA Network', 'ORGANIZATION'),\n",
              " ('NISA', 'ORGANIZATION'),\n",
              " ('Associate Technical Relevant Areas', 'ORGANIZATION'),\n",
              " ('Study', 'GPE'),\n",
              " ('Computer', 'ORGANIZATION'),\n",
              " ('Virtual', 'ORGANIZATION'),\n",
              " ('Security', 'ORGANIZATION'),\n",
              " ('Network', 'PERSON'),\n",
              " ('Backup', 'PERSON'),\n",
              " ('Millersville University City', 'PERSON'),\n",
              " ('State', 'PERSON'),\n",
              " ('USA Sociology Bachelor', 'ORGANIZATION'),\n",
              " ('Arts Certifications', 'PERSON'),\n",
              " ('Noteables', 'PERSON'),\n",
              " ('CompTIA', 'ORGANIZATION'),\n",
              " ('ITIL', 'ORGANIZATION'),\n",
              " ('Project Management', 'ORGANIZATION'),\n",
              " ('Project Management', 'ORGANIZATION'),\n",
              " ('PMP', 'ORGANIZATION'),\n",
              " ('Camp Microsoft', 'PERSON'),\n",
              " ('Defense Acquisition University', 'PERSON'),\n",
              " ('Systems Engineering Plan Defense Acquisition University', 'ORGANIZATION'),\n",
              " ('DISA Information Systems', 'ORGANIZATION'),\n",
              " ('ISES', 'ORGANIZATION'),\n",
              " ('Defense Acquisition University', 'ORGANIZATION'),\n",
              " ('EMW', 'ORGANIZATION'),\n",
              " ('Defense Acquisition University', 'ORGANIZATION'),\n",
              " ('System Acquisition', 'PERSON'),\n",
              " ('System Integration', 'ORGANIZATION'),\n",
              " ('Delivery', 'GPE'),\n",
              " ('SID', 'ORGANIZATION'),\n",
              " ('SID', 'ORGANIZATION')]"
            ]
          },
          "metadata": {},
          "execution_count": 44
        }
      ]
    }
  ]
}